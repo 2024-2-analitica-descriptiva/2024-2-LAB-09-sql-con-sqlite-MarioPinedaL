{
 "cells": [
  {
   "cell_type": "code",
   "execution_count": 3,
   "metadata": {},
   "outputs": [
    {
     "ename": "IndentationError",
     "evalue": "unexpected indent (3354213615.py, line 3)",
     "output_type": "error",
     "traceback": [
      "\u001b[1;36m  Cell \u001b[1;32mIn[3], line 3\u001b[1;36m\u001b[0m\n\u001b[1;33m    tbl1.K0,\u001b[0m\n\u001b[1;37m    ^\u001b[0m\n\u001b[1;31mIndentationError\u001b[0m\u001b[1;31m:\u001b[0m unexpected indent\n"
     ]
    }
   ],
   "source": [
    "import sqlite3\n",
    "SELECT\n",
    "    tbl1.K0,\n",
    "    avg(tbl2.c21) AS 'avg(c21)'\n",
    "FROM tbl1 as tbl1\n",
    "JOIN (\n",
    "    SELECT K1,c21\n",
    "    FROM tbl2\n",
    ") as tbl2\n",
    "ON tbl1.K1 = tbl2.K1 WHERE tbl1.c13 > 400\n",
    "GROUP BY 1;"
   ]
  }
 ],
 "metadata": {
  "kernelspec": {
   "display_name": ".venv",
   "language": "python",
   "name": "python3"
  },
  "language_info": {
   "codemirror_mode": {
    "name": "ipython",
    "version": 3
   },
   "file_extension": ".py",
   "mimetype": "text/x-python",
   "name": "python",
   "nbconvert_exporter": "python",
   "pygments_lexer": "ipython3",
   "version": "3.10.11"
  }
 },
 "nbformat": 4,
 "nbformat_minor": 2
}
